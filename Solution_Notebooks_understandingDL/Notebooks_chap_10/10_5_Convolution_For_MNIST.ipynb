{
  "cells": [
    {
      "cell_type": "markdown",
      "metadata": {
        "colab_type": "text",
        "id": "view-in-github"
      },
      "source": [
        "<a href=\"https://colab.research.google.com/github/udlbook/udlbook/blob/main/Notebooks/Chap10/10_5_Convolution_For_MNIST.ipynb\" target=\"_parent\"><img src=\"https://colab.research.google.com/assets/colab-badge.svg\" alt=\"Open In Colab\"/></a>"
      ]
    },
    {
      "cell_type": "markdown",
      "metadata": {
        "id": "t9vk9Elugvmi"
      },
      "source": [
        "# **Notebook 10.5: Convolution for MNIST**\n",
        "\n",
        "This notebook builds a proper network for 2D convolution.  It works with the MNIST dataset (figure 15.15a), which was the original classic dataset for classifying images.  The network will take a 28x28 grayscale image and classify it into one of 10 classes representing a digit.\n",
        "\n",
        "The code is adapted from https://nextjournal.com/gkoehler/pytorch-mnist\n",
        "\n",
        "Work through the cells below, running each cell in turn. In various places you will see the words \"TO DO\". Follow the instructions at these places and make predictions about what is going to happen or write code to complete the functions.\n",
        "\n",
        "Contact me at udlbookmail@gmail.com if you find any mistakes or have any suggestions.\n"
      ]
    },
    {
      "cell_type": "code",
      "execution_count": 2,
      "metadata": {
        "id": "YrXWAH7sUWvU"
      },
      "outputs": [],
      "source": [
        "import torch\n",
        "import torchvision\n",
        "import torch.nn as nn\n",
        "import torch.nn.functional as F\n",
        "import torch.optim as optim\n",
        "import matplotlib.pyplot as plt\n",
        "import random"
      ]
    },
    {
      "cell_type": "code",
      "execution_count": 3,
      "metadata": {
        "id": "wScBGXXFVadm"
      },
      "outputs": [
        {
          "name": "stdout",
          "output_type": "stream",
          "text": [
            "Downloading http://yann.lecun.com/exdb/mnist/train-images-idx3-ubyte.gz\n",
            "Failed to download (trying next):\n",
            "HTTP Error 403: Forbidden\n",
            "\n",
            "Downloading https://ossci-datasets.s3.amazonaws.com/mnist/train-images-idx3-ubyte.gz\n",
            "Downloading https://ossci-datasets.s3.amazonaws.com/mnist/train-images-idx3-ubyte.gz to /files/MNIST\\raw\\train-images-idx3-ubyte.gz\n"
          ]
        },
        {
          "name": "stderr",
          "output_type": "stream",
          "text": [
            "100.0%\n"
          ]
        },
        {
          "name": "stdout",
          "output_type": "stream",
          "text": [
            "Extracting /files/MNIST\\raw\\train-images-idx3-ubyte.gz to /files/MNIST\\raw\n",
            "\n",
            "Downloading http://yann.lecun.com/exdb/mnist/train-labels-idx1-ubyte.gz\n",
            "Failed to download (trying next):\n",
            "HTTP Error 403: Forbidden\n",
            "\n",
            "Downloading https://ossci-datasets.s3.amazonaws.com/mnist/train-labels-idx1-ubyte.gz\n",
            "Downloading https://ossci-datasets.s3.amazonaws.com/mnist/train-labels-idx1-ubyte.gz to /files/MNIST\\raw\\train-labels-idx1-ubyte.gz\n"
          ]
        },
        {
          "name": "stderr",
          "output_type": "stream",
          "text": [
            "100.0%\n"
          ]
        },
        {
          "name": "stdout",
          "output_type": "stream",
          "text": [
            "Extracting /files/MNIST\\raw\\train-labels-idx1-ubyte.gz to /files/MNIST\\raw\n",
            "\n",
            "Downloading http://yann.lecun.com/exdb/mnist/t10k-images-idx3-ubyte.gz\n",
            "Failed to download (trying next):\n",
            "HTTP Error 403: Forbidden\n",
            "\n",
            "Downloading https://ossci-datasets.s3.amazonaws.com/mnist/t10k-images-idx3-ubyte.gz\n",
            "Downloading https://ossci-datasets.s3.amazonaws.com/mnist/t10k-images-idx3-ubyte.gz to /files/MNIST\\raw\\t10k-images-idx3-ubyte.gz\n"
          ]
        },
        {
          "name": "stderr",
          "output_type": "stream",
          "text": [
            "100.0%\n"
          ]
        },
        {
          "name": "stdout",
          "output_type": "stream",
          "text": [
            "Extracting /files/MNIST\\raw\\t10k-images-idx3-ubyte.gz to /files/MNIST\\raw\n",
            "\n",
            "Downloading http://yann.lecun.com/exdb/mnist/t10k-labels-idx1-ubyte.gz\n",
            "Failed to download (trying next):\n",
            "HTTP Error 403: Forbidden\n",
            "\n",
            "Downloading https://ossci-datasets.s3.amazonaws.com/mnist/t10k-labels-idx1-ubyte.gz\n",
            "Downloading https://ossci-datasets.s3.amazonaws.com/mnist/t10k-labels-idx1-ubyte.gz to /files/MNIST\\raw\\t10k-labels-idx1-ubyte.gz\n"
          ]
        },
        {
          "name": "stderr",
          "output_type": "stream",
          "text": [
            "100.0%"
          ]
        },
        {
          "name": "stdout",
          "output_type": "stream",
          "text": [
            "Extracting /files/MNIST\\raw\\t10k-labels-idx1-ubyte.gz to /files/MNIST\\raw\n",
            "\n"
          ]
        },
        {
          "name": "stderr",
          "output_type": "stream",
          "text": [
            "\n"
          ]
        }
      ],
      "source": [
        "# Run this once to load the train and test data straight into a dataloader class\n",
        "# that will provide the batches\n",
        "batch_size_train = 64\n",
        "batch_size_test = 1000\n",
        "train_loader = torch.utils.data.DataLoader(\n",
        "  torchvision.datasets.MNIST('/files/', train=True, download=True,\n",
        "                             transform=torchvision.transforms.Compose([\n",
        "                               torchvision.transforms.ToTensor(),\n",
        "                               torchvision.transforms.Normalize(\n",
        "                                 (0.1307,), (0.3081,))\n",
        "                             ])),\n",
        "  batch_size=batch_size_train, shuffle=True)\n",
        "\n",
        "test_loader = torch.utils.data.DataLoader(\n",
        "  torchvision.datasets.MNIST('/files/', train=False, download=True,\n",
        "                             transform=torchvision.transforms.Compose([\n",
        "                               torchvision.transforms.ToTensor(),\n",
        "                               torchvision.transforms.Normalize(\n",
        "                                 (0.1307,), (0.3081,))\n",
        "                             ])),\n",
        "  batch_size=batch_size_test, shuffle=True)"
      ]
    },
    {
      "cell_type": "code",
      "execution_count": 4,
      "metadata": {
        "id": "8bKADvLHbiV5"
      },
      "outputs": [
        {
          "data": {
            "image/png": "[encoded data removed]",
            "text/plain": [
              "<Figure size 640x480 with 6 Axes>"
            ]
          },
          "metadata": {},
          "output_type": "display_data"
        }
      ],
      "source": [
        "# Let's draw some of the training data\n",
        "examples = enumerate(test_loader)\n",
        "batch_idx, (example_data, example_targets) = next(examples)\n",
        "\n",
        "fig = plt.figure()\n",
        "for i in range(6):\n",
        "  plt.subplot(2,3,i+1)\n",
        "  plt.tight_layout()\n",
        "  plt.imshow(example_data[i][0], cmap='gray', interpolation='none')\n",
        "  plt.title(\"Ground Truth: {}\".format(example_targets[i]))\n",
        "  plt.xticks([])\n",
        "  plt.yticks([])\n",
        "plt.show()"
      ]
    },
    {
      "cell_type": "markdown",
      "metadata": {
        "id": "_sFvRDGrl4qe"
      },
      "source": [
        "Define the network.  This is a more typical way to define a network than the sequential structure.  We define a class for the network, and define the parameters in the constructor.  Then we use a function called forward to actually run the network.  It's easy to see how you might use residual connections in this format."
      ]
    },
    {
      "cell_type": "code",
      "execution_count": 5,
      "metadata": {
        "id": "EQkvw2KOPVl7"
      },
      "outputs": [],
      "source": [
        "from os import X_OK\n",
        "# TODO Change this class to implement\n",
        "# 1. A valid convolution with kernel size 5, 1 input channel and 10 output channels\n",
        "# 2. A max pooling operation over a 2x2 area\n",
        "# 3. A Relu\n",
        "# 4. A valid convolution with kernel size 5, 10 input channels and 20 output channels\n",
        "# 5. A 2D Dropout layer\n",
        "# 6. A max pooling operation over a 2x2 area\n",
        "# 7. A relu\n",
        "# 8. A flattening operation\n",
        "# 9. A fully connected layer mapping from (whatever dimensions we are at-- find out using .shape) to 50\n",
        "# 10. A ReLU\n",
        "# 11. A fully connected layer mapping from 50 to 10 dimensions\n",
        "# 12. A softmax function.\n",
        "\n",
        "# Replace this class which implements a minimal network (which still does okay)\n",
        "class Net(nn.Module):\n",
        "    def __init__(self):\n",
        "        super(Net, self).__init__()\n",
        "        self.conv1 = nn.Conv2d(1, 10, kernel_size=5)\n",
        "        self.conv2 = nn.Conv2d(10, 20, kernel_size=5)\n",
        "        self.conv2_drop = nn.Dropout2d()\n",
        "        self.fc1 = nn.Linear(320, 50)\n",
        "        self.fc2 = nn.Linear(50, 10)\n",
        "\n",
        "    def forward(self, x):\n",
        "        x = F.relu(F.max_pool2d(self.conv1(x), 2))\n",
        "        x = F.relu(F.max_pool2d(self.conv2_drop(self.conv2(x)), 2))\n",
        "        x = x.view(-1, 320)\n",
        "        x = F.relu(self.fc1(x))\n",
        "        x = F.dropout(x, training=self.training)\n",
        "        x = self.fc2(x)\n",
        "        return F.log_softmax(x)"
      ]
    },
    {
      "cell_type": "code",
      "execution_count": 6,
      "metadata": {
        "id": "qWZtkCZcU_dg"
      },
      "outputs": [],
      "source": [
        "# He initialization of weights\n",
        "def weights_init(layer_in):\n",
        "  if isinstance(layer_in, nn.Linear):\n",
        "    nn.init.kaiming_uniform_(layer_in.weight)\n",
        "    layer_in.bias.data.fill_(0.0)"
      ]
    },
    {
      "cell_type": "code",
      "execution_count": 7,
      "metadata": {
        "id": "FslroPJJffrh"
      },
      "outputs": [],
      "source": [
        "# Create network\n",
        "model = Net()\n",
        "# Initialize model weights\n",
        "model.apply(weights_init)\n",
        "# Define optimizer\n",
        "optimizer = optim.SGD(model.parameters(), lr=0.01, momentum=0.5)"
      ]
    },
    {
      "cell_type": "code",
      "execution_count": 8,
      "metadata": {
        "id": "xKQd9PzkQ766"
      },
      "outputs": [],
      "source": [
        "# Main training routine\n",
        "def train(epoch):\n",
        "  model.train()\n",
        "  # Get each\n",
        "  for batch_idx, (data, target) in enumerate(train_loader):\n",
        "    optimizer.zero_grad()\n",
        "    output = model(data)\n",
        "    loss = F.nll_loss(output, target)\n",
        "    loss.backward()\n",
        "    optimizer.step()\n",
        "    # Store results\n",
        "    if batch_idx % 10 == 0:\n",
        "      print('Train Epoch: {} [{}/{}]\\tLoss: {:.6f}'.format(\n",
        "        epoch, batch_idx * len(data), len(train_loader.dataset), loss.item()))"
      ]
    },
    {
      "cell_type": "code",
      "execution_count": 9,
      "metadata": {
        "id": "Byn-f7qWRLxX"
      },
      "outputs": [],
      "source": [
        "# Run on test data\n",
        "def test():\n",
        "  model.eval()\n",
        "  test_loss = 0\n",
        "  correct = 0\n",
        "  with torch.no_grad():\n",
        "    for data, target in test_loader:\n",
        "      output = model(data)\n",
        "      test_loss += F.nll_loss(output, target, size_average=False).item()\n",
        "      pred = output.data.max(1, keepdim=True)[1]\n",
        "      correct += pred.eq(target.data.view_as(pred)).sum()\n",
        "  test_loss /= len(test_loader.dataset)\n",
        "  print('\\nTest set: Avg. loss: {:.4f}, Accuracy: {}/{} ({:.0f}%)\\n'.format(\n",
        "    test_loss, correct, len(test_loader.dataset),\n",
        "    100. * correct / len(test_loader.dataset)))"
      ]
    },
    {
      "cell_type": "code",
      "execution_count": 10,
      "metadata": {
        "id": "YgLaex1pfhqz"
      },
      "outputs": [
        {
          "name": "stderr",
          "output_type": "stream",
          "text": [
            "C:\\Users\\laura\\AppData\\Local\\Temp\\ipykernel_18752\\511275060.py:33: UserWarning: Implicit dimension choice for log_softmax has been deprecated. Change the call to include dim=X as an argument.\n",
            "  return F.log_softmax(x)\n",
            "c:\\Users\\laura\\OneDrive\\Documentos\\GitHub\\Understanding-DL---MPAM\\venv\\Lib\\site-packages\\torch\\nn\\_reduction.py:42: UserWarning: size_average and reduce args will be deprecated, please use reduction='sum' instead.\n",
            "  warnings.warn(warning.format(ret))\n"
          ]
        },
        {
          "name": "stdout",
          "output_type": "stream",
          "text": [
            "\n",
            "Test set: Avg. loss: 2.4362, Accuracy: 1059/10000 (11%)\n",
            "\n",
            "Train Epoch: 1 [0/60000]\tLoss: 2.833833\n",
            "Train Epoch: 1 [640/60000]\tLoss: 2.293205\n",
            "Train Epoch: 1 [1280/60000]\tLoss: 2.269577\n",
            "Train Epoch: 1 [1920/60000]\tLoss: 2.148448\n",
            "Train Epoch: 1 [2560/60000]\tLoss: 2.063416\n",
            "Train Epoch: 1 [3200/60000]\tLoss: 2.190471\n",
            "Train Epoch: 1 [3840/60000]\tLoss: 1.961393\n",
            "Train Epoch: 1 [4480/60000]\tLoss: 1.787731\n",
            "Train Epoch: 1 [5120/60000]\tLoss: 1.957848\n",
            "Train Epoch: 1 [5760/60000]\tLoss: 1.686778\n",
            "Train Epoch: 1 [6400/60000]\tLoss: 1.849954\n",
            "Train Epoch: 1 [7040/60000]\tLoss: 1.637121\n",
            "Train Epoch: 1 [7680/60000]\tLoss: 1.662180\n",
            "Train Epoch: 1 [8320/60000]\tLoss: 1.406131\n",
            "Train Epoch: 1 [8960/60000]\tLoss: 1.500958\n",
            "Train Epoch: 1 [9600/60000]\tLoss: 1.520717\n",
            "Train Epoch: 1 [10240/60000]\tLoss: 1.419862\n",
            "Train Epoch: 1 [10880/60000]\tLoss: 1.271536\n",
            "Train Epoch: 1 [11520/60000]\tLoss: 1.365046\n",
            "Train Epoch: 1 [12160/60000]\tLoss: 1.352676\n",
            "Train Epoch: 1 [12800/60000]\tLoss: 1.054298\n",
            "Train Epoch: 1 [13440/60000]\tLoss: 1.088703\n",
            "Train Epoch: 1 [14080/60000]\tLoss: 1.222588\n",
            "Train Epoch: 1 [14720/60000]\tLoss: 1.262185\n",
            "Train Epoch: 1 [15360/60000]\tLoss: 1.239664\n",
            "Train Epoch: 1 [16000/60000]\tLoss: 1.167542\n",
            "Train Epoch: 1 [16640/60000]\tLoss: 1.258258\n",
            "Train Epoch: 1 [17280/60000]\tLoss: 0.892747\n",
            "Train Epoch: 1 [17920/60000]\tLoss: 1.231982\n",
            "Train Epoch: 1 [18560/60000]\tLoss: 0.949670\n",
            "Train Epoch: 1 [19200/60000]\tLoss: 0.979555\n",
            "Train Epoch: 1 [19840/60000]\tLoss: 0.890224\n",
            "Train Epoch: 1 [20480/60000]\tLoss: 1.142249\n",
            "Train Epoch: 1 [21120/60000]\tLoss: 0.999516\n",
            "Train Epoch: 1 [21760/60000]\tLoss: 0.777705\n",
            "Train Epoch: 1 [22400/60000]\tLoss: 0.828073\n",
            "Train Epoch: 1 [23040/60000]\tLoss: 0.812044\n",
            "Train Epoch: 1 [23680/60000]\tLoss: 0.906019\n",
            "Train Epoch: 1 [24320/60000]\tLoss: 0.846270\n",
            "Train Epoch: 1 [24960/60000]\tLoss: 1.113305\n",
            "Train Epoch: 1 [25600/60000]\tLoss: 0.735385\n",
            "Train Epoch: 1 [26240/60000]\tLoss: 0.763686\n",
            "Train Epoch: 1 [26880/60000]\tLoss: 0.846656\n",
            "Train Epoch: 1 [27520/60000]\tLoss: 0.925693\n",
            "Train Epoch: 1 [28160/60000]\tLoss: 0.778627\n",
            "Train Epoch: 1 [28800/60000]\tLoss: 0.695793\n",
            "Train Epoch: 1 [29440/60000]\tLoss: 0.606335\n",
            "Train Epoch: 1 [30080/60000]\tLoss: 0.814809\n",
            "Train Epoch: 1 [30720/60000]\tLoss: 0.836268\n",
            "Train Epoch: 1 [31360/60000]\tLoss: 0.796931\n",
            "Train Epoch: 1 [32000/60000]\tLoss: 0.727554\n",
            "Train Epoch: 1 [32640/60000]\tLoss: 0.677373\n",
            "Train Epoch: 1 [33280/60000]\tLoss: 0.521839\n",
            "Train Epoch: 1 [33920/60000]\tLoss: 0.953790\n",
            "Train Epoch: 1 [34560/60000]\tLoss: 0.658730\n",
            "Train Epoch: 1 [35200/60000]\tLoss: 0.538591\n",
            "Train Epoch: 1 [35840/60000]\tLoss: 0.695828\n",
            "Train Epoch: 1 [36480/60000]\tLoss: 0.575493\n",
            "Train Epoch: 1 [37120/60000]\tLoss: 0.665974\n",
            "Train Epoch: 1 [37760/60000]\tLoss: 0.713072\n",
            "Train Epoch: 1 [38400/60000]\tLoss: 0.831272\n",
            "Train Epoch: 1 [39040/60000]\tLoss: 0.481590\n",
            "Train Epoch: 1 [39680/60000]\tLoss: 0.444753\n",
            "Train Epoch: 1 [40320/60000]\tLoss: 0.636160\n",
            "Train Epoch: 1 [40960/60000]\tLoss: 0.743457\n",
            "Train Epoch: 1 [41600/60000]\tLoss: 0.705894\n",
            "Train Epoch: 1 [42240/60000]\tLoss: 0.531604\n",
            "Train Epoch: 1 [42880/60000]\tLoss: 0.671716\n",
            "Train Epoch: 1 [43520/60000]\tLoss: 0.395824\n",
            "Train Epoch: 1 [44160/60000]\tLoss: 0.730567\n",
            "Train Epoch: 1 [44800/60000]\tLoss: 0.671228\n",
            "Train Epoch: 1 [45440/60000]\tLoss: 0.565802\n",
            "Train Epoch: 1 [46080/60000]\tLoss: 0.701393\n",
            "Train Epoch: 1 [46720/60000]\tLoss: 0.580448\n",
            "Train Epoch: 1 [47360/60000]\tLoss: 0.617163\n",
            "Train Epoch: 1 [48000/60000]\tLoss: 0.511896\n",
            "Train Epoch: 1 [48640/60000]\tLoss: 0.569331\n",
            "Train Epoch: 1 [49280/60000]\tLoss: 0.492289\n",
            "Train Epoch: 1 [49920/60000]\tLoss: 0.740814\n",
            "Train Epoch: 1 [50560/60000]\tLoss: 0.715094\n",
            "Train Epoch: 1 [51200/60000]\tLoss: 0.500199\n",
            "Train Epoch: 1 [51840/60000]\tLoss: 0.700747\n",
            "Train Epoch: 1 [52480/60000]\tLoss: 0.411707\n",
            "Train Epoch: 1 [53120/60000]\tLoss: 0.495119\n",
            "Train Epoch: 1 [53760/60000]\tLoss: 0.595710\n",
            "Train Epoch: 1 [54400/60000]\tLoss: 0.413762\n",
            "Train Epoch: 1 [55040/60000]\tLoss: 0.668514\n",
            "Train Epoch: 1 [55680/60000]\tLoss: 0.664959\n",
            "Train Epoch: 1 [56320/60000]\tLoss: 0.528569\n",
            "Train Epoch: 1 [56960/60000]\tLoss: 0.517910\n",
            "Train Epoch: 1 [57600/60000]\tLoss: 0.393955\n",
            "Train Epoch: 1 [58240/60000]\tLoss: 0.288195\n",
            "Train Epoch: 1 [58880/60000]\tLoss: 0.459695\n",
            "Train Epoch: 1 [59520/60000]\tLoss: 0.615609\n",
            "\n",
            "Test set: Avg. loss: 0.1772, Accuracy: 9514/10000 (95%)\n",
            "\n",
            "Train Epoch: 2 [0/60000]\tLoss: 0.320817\n",
            "Train Epoch: 2 [640/60000]\tLoss: 0.395321\n",
            "Train Epoch: 2 [1280/60000]\tLoss: 0.714048\n",
            "Train Epoch: 2 [1920/60000]\tLoss: 0.567772\n",
            "Train Epoch: 2 [2560/60000]\tLoss: 0.415478\n",
            "Train Epoch: 2 [3200/60000]\tLoss: 0.371651\n",
            "Train Epoch: 2 [3840/60000]\tLoss: 0.593119\n",
            "Train Epoch: 2 [4480/60000]\tLoss: 0.424852\n",
            "Train Epoch: 2 [5120/60000]\tLoss: 0.426072\n",
            "Train Epoch: 2 [5760/60000]\tLoss: 0.777120\n",
            "Train Epoch: 2 [6400/60000]\tLoss: 0.527551\n",
            "Train Epoch: 2 [7040/60000]\tLoss: 0.722302\n",
            "Train Epoch: 2 [7680/60000]\tLoss: 0.499579\n",
            "Train Epoch: 2 [8320/60000]\tLoss: 0.485917\n",
            "Train Epoch: 2 [8960/60000]\tLoss: 0.424947\n",
            "Train Epoch: 2 [9600/60000]\tLoss: 0.573228\n",
            "Train Epoch: 2 [10240/60000]\tLoss: 0.508038\n",
            "Train Epoch: 2 [10880/60000]\tLoss: 0.453449\n",
            "Train Epoch: 2 [11520/60000]\tLoss: 0.536720\n",
            "Train Epoch: 2 [12160/60000]\tLoss: 0.390376\n",
            "Train Epoch: 2 [12800/60000]\tLoss: 0.521667\n",
            "Train Epoch: 2 [13440/60000]\tLoss: 0.621689\n",
            "Train Epoch: 2 [14080/60000]\tLoss: 0.419145\n",
            "Train Epoch: 2 [14720/60000]\tLoss: 0.851283\n",
            "Train Epoch: 2 [15360/60000]\tLoss: 0.431491\n",
            "Train Epoch: 2 [16000/60000]\tLoss: 0.485885\n",
            "Train Epoch: 2 [16640/60000]\tLoss: 0.694826\n",
            "Train Epoch: 2 [17280/60000]\tLoss: 0.361401\n",
            "Train Epoch: 2 [17920/60000]\tLoss: 0.363347\n",
            "Train Epoch: 2 [18560/60000]\tLoss: 0.376271\n",
            "Train Epoch: 2 [19200/60000]\tLoss: 0.522742\n",
            "Train Epoch: 2 [19840/60000]\tLoss: 0.487117\n",
            "Train Epoch: 2 [20480/60000]\tLoss: 0.356559\n",
            "Train Epoch: 2 [21120/60000]\tLoss: 0.477235\n",
            "Train Epoch: 2 [21760/60000]\tLoss: 0.341809\n",
            "Train Epoch: 2 [22400/60000]\tLoss: 0.436293\n",
            "Train Epoch: 2 [23040/60000]\tLoss: 0.405807\n",
            "Train Epoch: 2 [23680/60000]\tLoss: 0.320617\n",
            "Train Epoch: 2 [24320/60000]\tLoss: 0.463520\n",
            "Train Epoch: 2 [24960/60000]\tLoss: 0.706305\n",
            "Train Epoch: 2 [25600/60000]\tLoss: 0.648444\n",
            "Train Epoch: 2 [26240/60000]\tLoss: 0.574017\n",
            "Train Epoch: 2 [26880/60000]\tLoss: 0.659038\n",
            "Train Epoch: 2 [27520/60000]\tLoss: 0.555406\n",
            "Train Epoch: 2 [28160/60000]\tLoss: 0.516196\n",
            "Train Epoch: 2 [28800/60000]\tLoss: 0.398928\n",
            "Train Epoch: 2 [29440/60000]\tLoss: 0.547211\n",
            "Train Epoch: 2 [30080/60000]\tLoss: 0.404865\n",
            "Train Epoch: 2 [30720/60000]\tLoss: 0.272360\n",
            "Train Epoch: 2 [31360/60000]\tLoss: 0.272204\n",
            "Train Epoch: 2 [32000/60000]\tLoss: 0.359487\n",
            "Train Epoch: 2 [32640/60000]\tLoss: 0.458507\n",
            "Train Epoch: 2 [33280/60000]\tLoss: 0.442759\n",
            "Train Epoch: 2 [33920/60000]\tLoss: 0.161855\n",
            "Train Epoch: 2 [34560/60000]\tLoss: 0.504903\n",
            "Train Epoch: 2 [35200/60000]\tLoss: 0.507971\n",
            "Train Epoch: 2 [35840/60000]\tLoss: 0.337393\n",
            "Train Epoch: 2 [36480/60000]\tLoss: 0.382090\n",
            "Train Epoch: 2 [37120/60000]\tLoss: 0.482001\n",
            "Train Epoch: 2 [37760/60000]\tLoss: 0.397810\n",
            "Train Epoch: 2 [38400/60000]\tLoss: 0.495163\n",
            "Train Epoch: 2 [39040/60000]\tLoss: 0.526609\n",
            "Train Epoch: 2 [39680/60000]\tLoss: 0.343180\n",
            "Train Epoch: 2 [40320/60000]\tLoss: 0.244070\n",
            "Train Epoch: 2 [40960/60000]\tLoss: 0.366505\n",
            "Train Epoch: 2 [41600/60000]\tLoss: 0.349101\n",
            "Train Epoch: 2 [42240/60000]\tLoss: 0.372222\n",
            "Train Epoch: 2 [42880/60000]\tLoss: 0.701786\n",
            "Train Epoch: 2 [43520/60000]\tLoss: 0.357277\n",
            "Train Epoch: 2 [44160/60000]\tLoss: 0.273942\n",
            "Train Epoch: 2 [44800/60000]\tLoss: 0.372493\n",
            "Train Epoch: 2 [45440/60000]\tLoss: 0.308179\n",
            "Train Epoch: 2 [46080/60000]\tLoss: 0.284116\n",
            "Train Epoch: 2 [46720/60000]\tLoss: 0.361241\n",
            "Train Epoch: 2 [47360/60000]\tLoss: 0.398249\n",
            "Train Epoch: 2 [48000/60000]\tLoss: 0.310182\n",
            "Train Epoch: 2 [48640/60000]\tLoss: 0.376644\n",
            "Train Epoch: 2 [49280/60000]\tLoss: 0.239216\n",
            "Train Epoch: 2 [49920/60000]\tLoss: 0.382483\n",
            "Train Epoch: 2 [50560/60000]\tLoss: 0.294082\n",
            "Train Epoch: 2 [51200/60000]\tLoss: 0.354113\n",
            "Train Epoch: 2 [51840/60000]\tLoss: 0.385034\n",
            "Train Epoch: 2 [52480/60000]\tLoss: 0.273318\n",
            "Train Epoch: 2 [53120/60000]\tLoss: 0.454062\n",
            "Train Epoch: 2 [53760/60000]\tLoss: 0.289624\n",
            "Train Epoch: 2 [54400/60000]\tLoss: 0.543404\n",
            "Train Epoch: 2 [55040/60000]\tLoss: 0.220758\n",
            "Train Epoch: 2 [55680/60000]\tLoss: 0.532682\n",
            "Train Epoch: 2 [56320/60000]\tLoss: 0.412725\n",
            "Train Epoch: 2 [56960/60000]\tLoss: 0.527106\n",
            "Train Epoch: 2 [57600/60000]\tLoss: 0.263043\n",
            "Train Epoch: 2 [58240/60000]\tLoss: 0.278316\n",
            "Train Epoch: 2 [58880/60000]\tLoss: 0.346298\n",
            "Train Epoch: 2 [59520/60000]\tLoss: 0.181784\n",
            "\n",
            "Test set: Avg. loss: 0.1181, Accuracy: 9642/10000 (96%)\n",
            "\n",
            "Train Epoch: 3 [0/60000]\tLoss: 0.298989\n",
            "Train Epoch: 3 [640/60000]\tLoss: 0.533309\n",
            "Train Epoch: 3 [1280/60000]\tLoss: 0.271149\n",
            "Train Epoch: 3 [1920/60000]\tLoss: 0.483441\n",
            "Train Epoch: 3 [2560/60000]\tLoss: 0.502261\n",
            "Train Epoch: 3 [3200/60000]\tLoss: 0.531500\n",
            "Train Epoch: 3 [3840/60000]\tLoss: 0.498215\n",
            "Train Epoch: 3 [4480/60000]\tLoss: 0.388684\n",
            "Train Epoch: 3 [5120/60000]\tLoss: 0.337172\n",
            "Train Epoch: 3 [5760/60000]\tLoss: 0.269012\n",
            "Train Epoch: 3 [6400/60000]\tLoss: 0.237263\n",
            "Train Epoch: 3 [7040/60000]\tLoss: 0.231832\n",
            "Train Epoch: 3 [7680/60000]\tLoss: 0.311832\n",
            "Train Epoch: 3 [8320/60000]\tLoss: 0.350447\n",
            "Train Epoch: 3 [8960/60000]\tLoss: 0.466627\n",
            "Train Epoch: 3 [9600/60000]\tLoss: 0.116544\n",
            "Train Epoch: 3 [10240/60000]\tLoss: 0.286619\n",
            "Train Epoch: 3 [10880/60000]\tLoss: 0.221639\n",
            "Train Epoch: 3 [11520/60000]\tLoss: 0.300498\n",
            "Train Epoch: 3 [12160/60000]\tLoss: 0.396779\n",
            "Train Epoch: 3 [12800/60000]\tLoss: 0.296413\n",
            "Train Epoch: 3 [13440/60000]\tLoss: 0.421947\n",
            "Train Epoch: 3 [14080/60000]\tLoss: 0.579528\n",
            "Train Epoch: 3 [14720/60000]\tLoss: 0.433016\n",
            "Train Epoch: 3 [15360/60000]\tLoss: 0.204169\n",
            "Train Epoch: 3 [16000/60000]\tLoss: 0.395105\n",
            "Train Epoch: 3 [16640/60000]\tLoss: 0.365794\n",
            "Train Epoch: 3 [17280/60000]\tLoss: 0.398067\n",
            "Train Epoch: 3 [17920/60000]\tLoss: 0.303286\n",
            "Train Epoch: 3 [18560/60000]\tLoss: 0.343122\n",
            "Train Epoch: 3 [19200/60000]\tLoss: 0.239218\n",
            "Train Epoch: 3 [19840/60000]\tLoss: 0.499508\n",
            "Train Epoch: 3 [20480/60000]\tLoss: 0.301211\n",
            "Train Epoch: 3 [21120/60000]\tLoss: 0.220196\n",
            "Train Epoch: 3 [21760/60000]\tLoss: 0.362380\n",
            "Train Epoch: 3 [22400/60000]\tLoss: 0.259615\n",
            "Train Epoch: 3 [23040/60000]\tLoss: 0.215859\n",
            "Train Epoch: 3 [23680/60000]\tLoss: 0.352122\n",
            "Train Epoch: 3 [24320/60000]\tLoss: 0.379806\n",
            "Train Epoch: 3 [24960/60000]\tLoss: 0.356805\n",
            "Train Epoch: 3 [25600/60000]\tLoss: 0.743122\n",
            "Train Epoch: 3 [26240/60000]\tLoss: 0.377199\n",
            "Train Epoch: 3 [26880/60000]\tLoss: 0.571821\n",
            "Train Epoch: 3 [27520/60000]\tLoss: 0.470540\n",
            "Train Epoch: 3 [28160/60000]\tLoss: 0.306074\n",
            "Train Epoch: 3 [28800/60000]\tLoss: 0.380801\n",
            "Train Epoch: 3 [29440/60000]\tLoss: 0.234783\n",
            "Train Epoch: 3 [30080/60000]\tLoss: 0.236241\n",
            "Train Epoch: 3 [30720/60000]\tLoss: 0.195610\n",
            "Train Epoch: 3 [31360/60000]\tLoss: 0.224804\n",
            "Train Epoch: 3 [32000/60000]\tLoss: 0.331702\n",
            "Train Epoch: 3 [32640/60000]\tLoss: 0.334796\n",
            "Train Epoch: 3 [33280/60000]\tLoss: 0.258648\n",
            "Train Epoch: 3 [33920/60000]\tLoss: 0.360583\n",
            "Train Epoch: 3 [34560/60000]\tLoss: 0.466303\n",
            "Train Epoch: 3 [35200/60000]\tLoss: 0.342642\n",
            "Train Epoch: 3 [35840/60000]\tLoss: 0.285582\n",
            "Train Epoch: 3 [36480/60000]\tLoss: 0.310104\n",
            "Train Epoch: 3 [37120/60000]\tLoss: 0.455647\n",
            "Train Epoch: 3 [37760/60000]\tLoss: 0.479413\n",
            "Train Epoch: 3 [38400/60000]\tLoss: 0.224598\n",
            "Train Epoch: 3 [39040/60000]\tLoss: 0.365140\n",
            "Train Epoch: 3 [39680/60000]\tLoss: 0.268300\n",
            "Train Epoch: 3 [40320/60000]\tLoss: 0.286092\n",
            "Train Epoch: 3 [40960/60000]\tLoss: 0.286134\n",
            "Train Epoch: 3 [41600/60000]\tLoss: 0.351961\n",
            "Train Epoch: 3 [42240/60000]\tLoss: 0.303894\n",
            "Train Epoch: 3 [42880/60000]\tLoss: 0.320218\n",
            "Train Epoch: 3 [43520/60000]\tLoss: 0.343162\n",
            "Train Epoch: 3 [44160/60000]\tLoss: 0.222735\n",
            "Train Epoch: 3 [44800/60000]\tLoss: 0.235692\n",
            "Train Epoch: 3 [45440/60000]\tLoss: 0.331058\n",
            "Train Epoch: 3 [46080/60000]\tLoss: 0.120230\n",
            "Train Epoch: 3 [46720/60000]\tLoss: 0.363881\n",
            "Train Epoch: 3 [47360/60000]\tLoss: 0.565539\n",
            "Train Epoch: 3 [48000/60000]\tLoss: 0.162444\n",
            "Train Epoch: 3 [48640/60000]\tLoss: 0.264957\n",
            "Train Epoch: 3 [49280/60000]\tLoss: 0.342480\n",
            "Train Epoch: 3 [49920/60000]\tLoss: 0.411426\n",
            "Train Epoch: 3 [50560/60000]\tLoss: 0.403486\n",
            "Train Epoch: 3 [51200/60000]\tLoss: 0.384692\n",
            "Train Epoch: 3 [51840/60000]\tLoss: 0.144575\n",
            "Train Epoch: 3 [52480/60000]\tLoss: 0.241860\n",
            "Train Epoch: 3 [53120/60000]\tLoss: 0.305966\n",
            "Train Epoch: 3 [53760/60000]\tLoss: 0.231692\n",
            "Train Epoch: 3 [54400/60000]\tLoss: 0.414555\n",
            "Train Epoch: 3 [55040/60000]\tLoss: 0.358149\n",
            "Train Epoch: 3 [55680/60000]\tLoss: 0.477120\n",
            "Train Epoch: 3 [56320/60000]\tLoss: 0.372790\n",
            "Train Epoch: 3 [56960/60000]\tLoss: 0.260564\n",
            "Train Epoch: 3 [57600/60000]\tLoss: 0.410521\n",
            "Train Epoch: 3 [58240/60000]\tLoss: 0.375153\n",
            "Train Epoch: 3 [58880/60000]\tLoss: 0.156972\n",
            "Train Epoch: 3 [59520/60000]\tLoss: 0.314462\n",
            "\n",
            "Test set: Avg. loss: 0.0950, Accuracy: 9696/10000 (97%)\n",
            "\n"
          ]
        }
      ],
      "source": [
        "# Get initial performance\n",
        "test()\n",
        "# Train for three epochs\n",
        "n_epochs = 3\n",
        "for epoch in range(1, n_epochs + 1):\n",
        "  train(epoch)\n",
        "  test()"
      ]
    },
    {
      "cell_type": "code",
      "execution_count": 11,
      "metadata": {
        "id": "o7fRUAy9Se1B"
      },
      "outputs": [
        {
          "name": "stderr",
          "output_type": "stream",
          "text": [
            "C:\\Users\\laura\\AppData\\Local\\Temp\\ipykernel_18752\\511275060.py:33: UserWarning: Implicit dimension choice for log_softmax has been deprecated. Change the call to include dim=X as an argument.\n",
            "  return F.log_softmax(x)\n"
          ]
        },
        {
          "data": {
            "image/png": "[encoded data removed]",
            "text/plain": [
              "<Figure size 640x480 with 10 Axes>"
            ]
          },
          "metadata": {},
          "output_type": "display_data"
        }
      ],
      "source": [
        "# Run network on data we got before and show predictions\n",
        "output = model(example_data)\n",
        "\n",
        "fig = plt.figure()\n",
        "for i in range(10):\n",
        "  plt.subplot(5,5,i+1)\n",
        "  plt.tight_layout()\n",
        "  plt.imshow(example_data[i][0], cmap='gray', interpolation='none')\n",
        "  plt.title(\"Prediction: {}\".format(\n",
        "    output.data.max(1, keepdim=True)[1][i].item()))\n",
        "  plt.xticks([])\n",
        "  plt.yticks([])\n",
        "plt.show()"
      ]
    }
  ],
  "metadata": {
    "colab": {
      "authorship_tag": "ABX9TyNAcc98STMeyQgh9SbVHWG+",
      "include_colab_link": true,
      "provenance": []
    },
    "kernelspec": {
      "display_name": "Python 3",
      "name": "python3"
    },
    "language_info": {
      "codemirror_mode": {
        "name": "ipython",
        "version": 3
      },
      "file_extension": ".py",
      "mimetype": "text/x-python",
      "name": "python",
      "nbconvert_exporter": "python",
      "pygments_lexer": "ipython3",
      "version": "3.12.4"
    }
  },
  "nbformat": 4,
  "nbformat_minor": 0
}

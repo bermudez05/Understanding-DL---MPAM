{
  "cells": [
    {
      "cell_type": "markdown",
      "metadata": {
        "colab_type": "text",
        "id": "view-in-github"
      },
      "source": [
        "<a href=\"https://colab.research.google.com/github/udlbook/udlbook/blob/main/Notebooks/Chap10/10_2_Convolution_for_MNIST_1D.ipynb\" target=\"_parent\"><img src=\"https://colab.research.google.com/assets/colab-badge.svg\" alt=\"Open In Colab\"/></a>"
      ]
    },
    {
      "cell_type": "markdown",
      "metadata": {
        "id": "t9vk9Elugvmi"
      },
      "source": [
        "# **Notebook 10.2: Convolution for MNIST-1D**\n",
        "\n",
        "This notebook investigates a 1D convolutional network for MNIST-1D as in figure 10.7 and 10.8a.\n",
        "\n",
        "Work through the cells below, running each cell in turn. In various places you will see the words \"TO DO\". Follow the instructions at these places and make predictions about what is going to happen or write code to complete the functions.\n",
        "\n",
        "Contact me at udlbookmail@gmail.com if you find any mistakes or have any suggestions.\n",
        "\n"
      ]
    },
    {
      "cell_type": "code",
      "execution_count": 2,
      "metadata": {
        "id": "YrXWAH7sUWvU"
      },
      "outputs": [],
      "source": [
        "import numpy as np\n",
        "import os\n",
        "import torch, torch.nn as nn\n",
        "from torch.utils.data import TensorDataset, DataLoader\n",
        "from torch.optim.lr_scheduler import StepLR\n",
        "import matplotlib.pyplot as plt\n",
        "import mnist1d\n",
        "import random"
      ]
    },
    {
      "cell_type": "code",
      "execution_count": 3,
      "metadata": {
        "id": "twI72ZCrCt5z"
      },
      "outputs": [
        {
          "name": "stdout",
          "output_type": "stream",
          "text": [
            "Did or could not load data from ./mnist1d_data.pkl. Rebuilding dataset...\n",
            "Examples in training set: 4000\n",
            "Examples in test set: 1000\n",
            "Length of each example: 40\n"
          ]
        }
      ],
      "source": [
        "args = mnist1d.data.get_dataset_args()\n",
        "data = mnist1d.data.get_dataset(args, path='./mnist1d_data.pkl', download=False, regenerate=False)\n",
        "\n",
        "# The training and test input and outputs are in\n",
        "# data['x'], data['y'], data['x_test'], and data['y_test']\n",
        "print(\"Examples in training set: {}\".format(len(data['y'])))\n",
        "print(\"Examples in test set: {}\".format(len(data['y_test'])))\n",
        "print(\"Length of each example: {}\".format(data['x'].shape[-1]))"
      ]
    },
    {
      "cell_type": "code",
      "execution_count": 4,
      "metadata": {
        "id": "8bKADvLHbiV5"
      },
      "outputs": [
        {
          "name": "stdout",
          "output_type": "stream",
          "text": [
            "Train data: 4000 examples (columns), each of which has 40 dimensions (rows)\n",
            "Validation data: 1000 examples (columns), each of which has 40 dimensions (rows)\n"
          ]
        }
      ],
      "source": [
        "# Load in the data\n",
        "train_data_x = data['x'].transpose()\n",
        "train_data_y = data['y']\n",
        "val_data_x = data['x_test'].transpose()\n",
        "val_data_y = data['y_test']\n",
        "# Print out sizes\n",
        "print(\"Train data: %d examples (columns), each of which has %d dimensions (rows)\"%((train_data_x.shape[1],train_data_x.shape[0])))\n",
        "print(\"Validation data: %d examples (columns), each of which has %d dimensions (rows)\"%((val_data_x.shape[1],val_data_x.shape[0])))"
      ]
    },
    {
      "cell_type": "markdown",
      "metadata": {
        "id": "_sFvRDGrl4qe"
      },
      "source": [
        "Define the network"
      ]
    },
    {
      "cell_type": "code",
      "execution_count": 13,
      "metadata": {
        "id": "FslroPJJffrh"
      },
      "outputs": [],
      "source": [
        "# There are 40 input dimensions and 10 output dimensions for this data\n",
        "# The inputs correspond to the 40 offsets in the MNIST1D template.\n",
        "D_i = 40\n",
        "# The outputs correspond to the 10 digits\n",
        "D_o = 10\n",
        "\n",
        "\n",
        "# TODO Create a model with the following layers\n",
        "# 1. Convolutional layer, (input=length 40 and 1 channel, kernel size 3, stride 2, padding=\"valid\", 15 output channels )\n",
        "# 2. ReLU\n",
        "# 3. Convolutional layer, (input=length 19 and 15 channels, kernel size 3, stride 2, padding=\"valid\", 15 output channels )\n",
        "# 4. ReLU\n",
        "# 5. Convolutional layer, (input=length 9 and 15 channels, kernel size 3, stride 2, padding=\"valid\", 15 output channels)\n",
        "# 6. ReLU\n",
        "# 7. Flatten (converts 4x15) to length 60\n",
        "# 8. Linear layer (input size = 60, output size = 10)\n",
        "# References:\n",
        "# https://pytorch.org/docs/1.13/generated/torch.nn.Conv1d.html?highlight=conv1d#torch.nn.Conv1d\n",
        "# https://pytorch.org/docs/stable/generated/torch.nn.Flatten.html\n",
        "# https://pytorch.org/docs/1.13/generated/torch.nn.Linear.html?highlight=linear#torch.nn.Linear\n",
        "# NOTE THAT THE CONVOLUTIONAL LAYERS NEED TO TAKE THE NUMBER OF INPUT CHANNELS AS A PARAMETER\n",
        "# AND NOT THE INPUT SIZE.\n",
        "\n",
        "# Replace the following function:\n",
        "model = nn.Sequential(\n",
        "    nn.Conv1d(1, 15, kernel_size=3, stride=2, padding=0),\n",
        "    nn.ReLU(),\n",
        "    nn.Conv1d(15, 15, kernel_size=3, stride=2, padding=0),\n",
        "    nn.ReLU(),\n",
        "    nn.Conv1d(15, 15, kernel_size=3, stride=2, padding=0),\n",
        "    nn.ReLU(),\n",
        "    nn.Flatten(),\n",
        "    nn.Linear(60, 10)\n",
        ")\n",
        "\n",
        "\n",
        "\n"
      ]
    },
    {
      "cell_type": "code",
      "execution_count": 14,
      "metadata": {
        "id": "YgLaex1pfhqz"
      },
      "outputs": [],
      "source": [
        "# He initialization of weights\n",
        "def weights_init(layer_in):\n",
        "  if isinstance(layer_in, nn.Linear):\n",
        "    nn.init.kaiming_uniform_(layer_in.weight)\n",
        "    layer_in.bias.data.fill_(0.0)"
      ]
    },
    {
      "cell_type": "code",
      "execution_count": 15,
      "metadata": {
        "id": "NYw8I_3mmX5c"
      },
      "outputs": [
        {
          "name": "stdout",
          "output_type": "stream",
          "text": [
            "Epoch     0, train loss 2.236852, train error 81.32,  val loss 2.245882, percent error 84.10\n",
            "Epoch     1, train loss 1.637844, train error 65.62,  val loss 1.653767, percent error 67.40\n",
            "Epoch     2, train loss 1.389462, train error 56.40,  val loss 1.408494, percent error 58.80\n",
            "Epoch     3, train loss 1.238066, train error 48.38,  val loss 1.253599, percent error 52.20\n",
            "Epoch     4, train loss 1.254167, train error 51.30,  val loss 1.274058, percent error 55.20\n",
            "Epoch     5, train loss 1.163416, train error 46.70,  val loss 1.197081, percent error 50.90\n",
            "Epoch     6, train loss 1.123457, train error 46.58,  val loss 1.137775, percent error 46.90\n",
            "Epoch     7, train loss 1.013298, train error 40.70,  val loss 1.054983, percent error 45.00\n",
            "Epoch     8, train loss 0.882848, train error 34.90,  val loss 0.926526, percent error 38.00\n",
            "Epoch     9, train loss 0.834396, train error 34.38,  val loss 0.898300, percent error 37.80\n",
            "Epoch    10, train loss 0.788367, train error 31.97,  val loss 0.876574, percent error 35.20\n",
            "Epoch    11, train loss 0.721296, train error 28.80,  val loss 0.793607, percent error 34.10\n",
            "Epoch    12, train loss 0.702813, train error 27.90,  val loss 0.767339, percent error 32.60\n",
            "Epoch    13, train loss 0.732705, train error 29.00,  val loss 0.865101, percent error 34.50\n",
            "Epoch    14, train loss 0.574729, train error 21.97,  val loss 0.691995, percent error 26.20\n",
            "Epoch    15, train loss 0.492949, train error 17.70,  val loss 0.618216, percent error 24.00\n",
            "Epoch    16, train loss 0.516829, train error 19.62,  val loss 0.672995, percent error 25.20\n",
            "Epoch    17, train loss 0.417239, train error 14.25,  val loss 0.524379, percent error 18.30\n",
            "Epoch    18, train loss 0.379064, train error 13.28,  val loss 0.518376, percent error 17.50\n",
            "Epoch    19, train loss 0.309195, train error 10.65,  val loss 0.440200, percent error 15.40\n",
            "Epoch    20, train loss 0.271524, train error 9.65,  val loss 0.427411, percent error 15.30\n",
            "Epoch    21, train loss 0.249080, train error 8.55,  val loss 0.399674, percent error 13.50\n",
            "Epoch    22, train loss 0.216698, train error 7.22,  val loss 0.371756, percent error 11.50\n",
            "Epoch    23, train loss 0.202953, train error 6.70,  val loss 0.363694, percent error 12.60\n",
            "Epoch    24, train loss 0.193293, train error 6.30,  val loss 0.351495, percent error 11.20\n",
            "Epoch    25, train loss 0.223403, train error 8.20,  val loss 0.404608, percent error 13.60\n",
            "Epoch    26, train loss 0.197044, train error 6.90,  val loss 0.364091, percent error 12.60\n",
            "Epoch    27, train loss 0.156443, train error 5.15,  val loss 0.328797, percent error 11.10\n",
            "Epoch    28, train loss 0.145743, train error 4.55,  val loss 0.340499, percent error 11.30\n",
            "Epoch    29, train loss 0.157015, train error 5.80,  val loss 0.329112, percent error 11.60\n",
            "Epoch    30, train loss 0.137868, train error 4.10,  val loss 0.304579, percent error 9.90\n",
            "Epoch    31, train loss 0.123719, train error 4.15,  val loss 0.313540, percent error 11.20\n",
            "Epoch    32, train loss 0.122048, train error 3.85,  val loss 0.320790, percent error 9.70\n",
            "Epoch    33, train loss 0.119298, train error 4.00,  val loss 0.335725, percent error 10.60\n",
            "Epoch    34, train loss 0.127463, train error 4.03,  val loss 0.343433, percent error 10.10\n",
            "Epoch    35, train loss 0.110797, train error 3.43,  val loss 0.306107, percent error 9.80\n",
            "Epoch    36, train loss 0.120867, train error 4.40,  val loss 0.339726, percent error 10.30\n",
            "Epoch    37, train loss 0.092866, train error 2.80,  val loss 0.295671, percent error 9.40\n",
            "Epoch    38, train loss 0.113994, train error 3.88,  val loss 0.318499, percent error 10.70\n",
            "Epoch    39, train loss 0.094318, train error 2.75,  val loss 0.311900, percent error 9.50\n",
            "Epoch    40, train loss 0.067761, train error 1.75,  val loss 0.297958, percent error 9.60\n",
            "Epoch    41, train loss 0.064695, train error 1.62,  val loss 0.308022, percent error 9.50\n",
            "Epoch    42, train loss 0.065168, train error 1.62,  val loss 0.296009, percent error 9.60\n",
            "Epoch    43, train loss 0.061654, train error 1.50,  val loss 0.316181, percent error 9.60\n",
            "Epoch    44, train loss 0.061434, train error 1.70,  val loss 0.320794, percent error 9.40\n",
            "Epoch    45, train loss 0.058783, train error 1.53,  val loss 0.314871, percent error 9.30\n",
            "Epoch    46, train loss 0.058601, train error 1.53,  val loss 0.318268, percent error 9.40\n",
            "Epoch    47, train loss 0.058589, train error 1.43,  val loss 0.319340, percent error 9.10\n",
            "Epoch    48, train loss 0.066019, train error 2.10,  val loss 0.340968, percent error 9.90\n",
            "Epoch    49, train loss 0.059036, train error 1.75,  val loss 0.343528, percent error 9.70\n",
            "Epoch    50, train loss 0.051273, train error 1.15,  val loss 0.322866, percent error 9.00\n",
            "Epoch    51, train loss 0.051880, train error 1.20,  val loss 0.343047, percent error 9.80\n",
            "Epoch    52, train loss 0.048240, train error 1.18,  val loss 0.323969, percent error 9.00\n",
            "Epoch    53, train loss 0.046800, train error 1.07,  val loss 0.324266, percent error 9.30\n",
            "Epoch    54, train loss 0.052204, train error 1.22,  val loss 0.350103, percent error 9.70\n",
            "Epoch    55, train loss 0.074180, train error 2.25,  val loss 0.364817, percent error 10.10\n",
            "Epoch    56, train loss 0.044233, train error 1.00,  val loss 0.334422, percent error 8.90\n",
            "Epoch    57, train loss 0.046674, train error 1.10,  val loss 0.321148, percent error 9.60\n",
            "Epoch    58, train loss 0.043219, train error 0.90,  val loss 0.346845, percent error 9.00\n",
            "Epoch    59, train loss 0.040494, train error 0.82,  val loss 0.331386, percent error 9.10\n",
            "Epoch    60, train loss 0.037607, train error 0.70,  val loss 0.333351, percent error 9.20\n",
            "Epoch    61, train loss 0.036926, train error 0.62,  val loss 0.338180, percent error 9.10\n",
            "Epoch    62, train loss 0.037303, train error 0.78,  val loss 0.338880, percent error 9.40\n",
            "Epoch    63, train loss 0.036385, train error 0.68,  val loss 0.346164, percent error 9.30\n",
            "Epoch    64, train loss 0.036037, train error 0.68,  val loss 0.348448, percent error 9.50\n",
            "Epoch    65, train loss 0.035244, train error 0.65,  val loss 0.351549, percent error 9.40\n",
            "Epoch    66, train loss 0.035009, train error 0.62,  val loss 0.342899, percent error 9.10\n",
            "Epoch    67, train loss 0.034382, train error 0.57,  val loss 0.342951, percent error 9.10\n",
            "Epoch    68, train loss 0.033651, train error 0.65,  val loss 0.350000, percent error 9.50\n",
            "Epoch    69, train loss 0.033368, train error 0.57,  val loss 0.350794, percent error 9.60\n",
            "Epoch    70, train loss 0.032774, train error 0.53,  val loss 0.352083, percent error 9.30\n",
            "Epoch    71, train loss 0.032117, train error 0.53,  val loss 0.355654, percent error 9.20\n",
            "Epoch    72, train loss 0.032200, train error 0.50,  val loss 0.352453, percent error 9.10\n",
            "Epoch    73, train loss 0.034933, train error 0.68,  val loss 0.368285, percent error 9.80\n",
            "Epoch    74, train loss 0.032189, train error 0.60,  val loss 0.356722, percent error 9.40\n",
            "Epoch    75, train loss 0.030900, train error 0.47,  val loss 0.360820, percent error 9.40\n",
            "Epoch    76, train loss 0.030623, train error 0.53,  val loss 0.360095, percent error 9.40\n",
            "Epoch    77, train loss 0.030563, train error 0.47,  val loss 0.367093, percent error 9.30\n",
            "Epoch    78, train loss 0.030467, train error 0.47,  val loss 0.359754, percent error 9.40\n",
            "Epoch    79, train loss 0.030381, train error 0.55,  val loss 0.364300, percent error 9.30\n",
            "Epoch    80, train loss 0.029009, train error 0.43,  val loss 0.358018, percent error 9.30\n",
            "Epoch    81, train loss 0.028721, train error 0.40,  val loss 0.362234, percent error 9.10\n",
            "Epoch    82, train loss 0.028456, train error 0.43,  val loss 0.363510, percent error 9.10\n",
            "Epoch    83, train loss 0.028821, train error 0.40,  val loss 0.364716, percent error 9.20\n",
            "Epoch    84, train loss 0.028114, train error 0.45,  val loss 0.363795, percent error 9.30\n",
            "Epoch    85, train loss 0.028240, train error 0.40,  val loss 0.365448, percent error 9.40\n",
            "Epoch    86, train loss 0.027754, train error 0.40,  val loss 0.366170, percent error 9.30\n",
            "Epoch    87, train loss 0.027607, train error 0.43,  val loss 0.365475, percent error 9.30\n",
            "Epoch    88, train loss 0.027227, train error 0.43,  val loss 0.365909, percent error 9.50\n",
            "Epoch    89, train loss 0.027427, train error 0.43,  val loss 0.369445, percent error 9.60\n",
            "Epoch    90, train loss 0.026888, train error 0.40,  val loss 0.367424, percent error 9.60\n",
            "Epoch    91, train loss 0.026920, train error 0.43,  val loss 0.365651, percent error 9.70\n",
            "Epoch    92, train loss 0.026809, train error 0.38,  val loss 0.365390, percent error 9.70\n",
            "Epoch    93, train loss 0.026431, train error 0.40,  val loss 0.368900, percent error 9.50\n",
            "Epoch    94, train loss 0.026274, train error 0.35,  val loss 0.368653, percent error 9.40\n",
            "Epoch    95, train loss 0.026132, train error 0.40,  val loss 0.371718, percent error 9.70\n",
            "Epoch    96, train loss 0.026134, train error 0.38,  val loss 0.370402, percent error 9.60\n",
            "Epoch    97, train loss 0.025938, train error 0.38,  val loss 0.373636, percent error 9.40\n",
            "Epoch    98, train loss 0.025868, train error 0.40,  val loss 0.373009, percent error 9.70\n",
            "Epoch    99, train loss 0.025463, train error 0.32,  val loss 0.373511, percent error 9.60\n"
          ]
        },
        {
          "data": {
            "image/png": "[encoded data removed]",
            "text/plain": [
              "<Figure size 640x480 with 1 Axes>"
            ]
          },
          "metadata": {},
          "output_type": "display_data"
        }
      ],
      "source": [
        "# choose cross entropy loss function (equation 5.24 in the loss notes)\n",
        "loss_function = nn.CrossEntropyLoss()\n",
        "# construct SGD optimizer and initialize learning rate and momentum\n",
        "optimizer = torch.optim.SGD(model.parameters(), lr = 0.05, momentum=0.9)\n",
        "# object that decreases learning rate by half every 20 epochs\n",
        "scheduler = StepLR(optimizer, step_size=20, gamma=0.5)\n",
        "# create 100 dummy data points and store in data loader class\n",
        "x_train = torch.tensor(train_data_x.transpose().astype('float32'))\n",
        "y_train = torch.tensor(train_data_y.astype('long')).long()\n",
        "x_val= torch.tensor(val_data_x.transpose().astype('float32'))\n",
        "y_val = torch.tensor(val_data_y.astype('long')).long()\n",
        "\n",
        "# load the data into a class that creates the batches\n",
        "data_loader = DataLoader(TensorDataset(x_train,y_train), batch_size=100, shuffle=True, worker_init_fn=np.random.seed(1))\n",
        "\n",
        "# Initialize model weights\n",
        "model.apply(weights_init)\n",
        "\n",
        "# loop over the dataset n_epoch times\n",
        "n_epoch = 100\n",
        "# store the loss and the % correct at each epoch\n",
        "losses_train = np.zeros((n_epoch))\n",
        "errors_train = np.zeros((n_epoch))\n",
        "losses_val = np.zeros((n_epoch))\n",
        "errors_val = np.zeros((n_epoch))\n",
        "\n",
        "for epoch in range(n_epoch):\n",
        "  # loop over batches\n",
        "  for i, data in enumerate(data_loader):\n",
        "    # retrieve inputs and labels for this batch\n",
        "    x_batch, y_batch = data\n",
        "    # zero the parameter gradients\n",
        "    optimizer.zero_grad()\n",
        "    # forward pass -- calculate model output\n",
        "    pred = model(x_batch[:,None,:])\n",
        "    # compute the loss\n",
        "    loss = loss_function(pred, y_batch)\n",
        "    # backward pass\n",
        "    loss.backward()\n",
        "    # SGD update\n",
        "    optimizer.step()\n",
        "\n",
        "  # Run whole dataset to get statistics -- normally wouldn't do this\n",
        "  pred_train = model(x_train[:,None,:])\n",
        "  pred_val = model(x_val[:,None,:])\n",
        "  _, predicted_train_class = torch.max(pred_train.data, 1)\n",
        "  _, predicted_val_class = torch.max(pred_val.data, 1)\n",
        "  errors_train[epoch] = 100 - 100 * (predicted_train_class == y_train).float().sum() / len(y_train)\n",
        "  errors_val[epoch]= 100 - 100 * (predicted_val_class == y_val).float().sum() / len(y_val)\n",
        "  losses_train[epoch] = loss_function(pred_train, y_train).item()\n",
        "  losses_val[epoch]= loss_function(pred_val, y_val).item()\n",
        "  print(f'Epoch {epoch:5d}, train loss {losses_train[epoch]:.6f}, train error {errors_train[epoch]:3.2f},  val loss {losses_val[epoch]:.6f}, percent error {errors_val[epoch]:3.2f}')\n",
        "\n",
        "  # tell scheduler to consider updating learning rate\n",
        "  scheduler.step()\n",
        "\n",
        "# Plot the results\n",
        "fig, ax = plt.subplots()\n",
        "ax.plot(errors_train,'r-',label='train')\n",
        "ax.plot(errors_val,'b-',label='validation')\n",
        "ax.set_ylim(0,100); ax.set_xlim(0,n_epoch)\n",
        "ax.set_xlabel('Epoch'); ax.set_ylabel('Error')\n",
        "ax.set_title('Part I: Validation Result %3.2f'%(errors_val[-1]))\n",
        "ax.legend()\n",
        "plt.show()"
      ]
    }
  ],
  "metadata": {
    "colab": {
      "authorship_tag": "ABX9TyNb46PJB/CC1pcHGfjpUUZg",
      "include_colab_link": true,
      "provenance": []
    },
    "kernelspec": {
      "display_name": "Python 3",
      "name": "python3"
    },
    "language_info": {
      "codemirror_mode": {
        "name": "ipython",
        "version": 3
      },
      "file_extension": ".py",
      "mimetype": "text/x-python",
      "name": "python",
      "nbconvert_exporter": "python",
      "pygments_lexer": "ipython3",
      "version": "3.12.4"
    }
  },
  "nbformat": 4,
  "nbformat_minor": 0
}
